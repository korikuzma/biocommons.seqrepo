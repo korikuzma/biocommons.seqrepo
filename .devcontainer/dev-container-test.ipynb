{
 "cells": [
  {
   "cell_type": "code",
   "execution_count": 2,
   "metadata": {},
   "outputs": [],
   "source": [
    "from biocommons.seqrepo import dataproxy\n",
    "\n",
    "dp = dataproxy.create_dataproxy()"
   ]
  },
  {
   "cell_type": "code",
   "execution_count": 3,
   "metadata": {},
   "outputs": [
    {
     "data": {
      "text/plain": [
       "{'added': '2016-08-24T05:03:11Z',\n",
       " 'aliases': ['MD5:215137b1973c1a5afcf86be7d999574a',\n",
       "  'NCBI:NM_000551.3',\n",
       "  'refseq:NM_000551.3',\n",
       "  'SEGUID:T12L0p2X5E8DbnL0+SwI4Wc1S6g',\n",
       "  'SHA1:4f5d8bd29d97e44f036e72f4f92c08e167354ba8',\n",
       "  'VMC:GS_v_QTc1p-MUYdgrRv4LMT6ByXIOsdw3C_',\n",
       "  'sha512t24u:v_QTc1p-MUYdgrRv4LMT6ByXIOsdw3C_',\n",
       "  'ga4gh:SQ.v_QTc1p-MUYdgrRv4LMT6ByXIOsdw3C_'],\n",
       " 'alphabet': 'ACGT',\n",
       " 'length': 4560}"
      ]
     },
     "execution_count": 3,
     "metadata": {},
     "output_type": "execute_result"
    }
   ],
   "source": [
    "dp.get_metadata(\"refseq:NM_000551.3\")"
   ]
  },
  {
   "cell_type": "code",
   "execution_count": 4,
   "metadata": {},
   "outputs": [
    {
     "data": {
      "text/plain": [
       "['GRCh38:1',\n",
       " 'GRCh38.p1:1',\n",
       " 'GRCh38.p10:1',\n",
       " 'MD5:6aef897c3d6ff0c78aff06ac189178dd',\n",
       " 'ga4gh:SQ.Ya6Rs7DHhDeg7YaOSg1EoNi3U_nQ9SvO',\n",
       " 'SHA1:14251de9527aba2912fd558b6e119d5668f6ace0',\n",
       " 'GRCh38.p4:chr1',\n",
       " 'GRCh38.p6:1',\n",
       " 'refseq:NC_000001.11',\n",
       " 'GRCh38.p2:1',\n",
       " 'GRCh38.p12:1',\n",
       " 'GRCh38.p7:1',\n",
       " 'GRCh38.p12:chr1',\n",
       " 'NCBI:NC_000001.11',\n",
       " 'GRCh38.p5:chr1',\n",
       " 'GRCh38.p4:1',\n",
       " 'GRCh38.p1:chr1',\n",
       " 'GRCh38.p11:1',\n",
       " 'GRCh38.p11:chr1',\n",
       " 'GRCh38.p7:chr1',\n",
       " 'sha512t24u:Ya6Rs7DHhDeg7YaOSg1EoNi3U_nQ9SvO',\n",
       " 'GRCh38.p3:1',\n",
       " 'GRCh38.p8:1',\n",
       " 'SEGUID:FCUd6VJ6uikS/VWLbhGdVmj2rOA',\n",
       " 'GRCh38.p9:chr1',\n",
       " 'GRCh38.p3:chr1',\n",
       " 'GRCh38.p6:chr1',\n",
       " 'GRCh38.p10:chr1',\n",
       " 'GRCh38.p8:chr1',\n",
       " 'GRCh38:chr1',\n",
       " 'GRCh38.p9:1',\n",
       " 'GRCh38.p2:chr1',\n",
       " 'VMC:GS_Ya6Rs7DHhDeg7YaOSg1EoNi3U_nQ9SvO',\n",
       " 'GRCh38.p5:1']"
      ]
     },
     "execution_count": 4,
     "metadata": {},
     "output_type": "execute_result"
    }
   ],
   "source": [
    "dp.translate_sequence_identifier(\"GRCh38:chr1\")"
   ]
  }
 ],
 "metadata": {
  "kernelspec": {
   "display_name": "Python 3",
   "language": "python",
   "name": "python3"
  },
  "language_info": {
   "codemirror_mode": {
    "name": "ipython",
    "version": 3
   },
   "file_extension": ".py",
   "mimetype": "text/x-python",
   "name": "python",
   "nbconvert_exporter": "python",
   "pygments_lexer": "ipython3",
   "version": "3.11.4"
  },
  "orig_nbformat": 4
 },
 "nbformat": 4,
 "nbformat_minor": 2
}
